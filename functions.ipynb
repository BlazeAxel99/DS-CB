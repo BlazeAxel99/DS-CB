{
  "nbformat": 4,
  "nbformat_minor": 0,
  "metadata": {
    "colab": {
      "name": "functions.ipynb",
      "private_outputs": true,
      "provenance": [],
      "authorship_tag": "ABX9TyNmmZ5i9CCXtuQVkWess26m",
      "include_colab_link": true
    },
    "kernelspec": {
      "name": "python3",
      "display_name": "Python 3"
    }
  },
  "cells": [
    {
      "cell_type": "markdown",
      "metadata": {
        "id": "view-in-github",
        "colab_type": "text"
      },
      "source": [
        "<a href=\"https://colab.research.google.com/github/BlazeAxel99/DS-CB/blob/main/functions.ipynb\" target=\"_parent\"><img src=\"https://colab.research.google.com/assets/colab-badge.svg\" alt=\"Open In Colab\"/></a>"
      ]
    },
    {
      "cell_type": "code",
      "metadata": {
        "id": "W3gJIBsYkvN-"
      },
      "source": [
        "print(\"knock knock knock kash\")\r\n",
        "print(\"knock knock knock kash\")\r\n",
        "print(\"knock knock knock kash\")\r\n",
        "\r\n",
        "print(10+30)\r\n",
        "\r\n",
        "for i in range(10):\r\n",
        "  print(i)\r\n",
        "\r\n",
        "print(\"knock knock knock kash\")\r\n",
        "print(\"knock knock knock kash\")\r\n",
        "print(\"knock knock knock kash\")"
      ],
      "execution_count": null,
      "outputs": []
    },
    {
      "cell_type": "code",
      "metadata": {
        "id": "x08yo526k6yo"
      },
      "source": [
        "def sheldon_knock():\r\n",
        "\r\n",
        "   print(\"knock knock knock kash\")\r\n",
        "   print(\"knock knock knock kash\")\r\n",
        "   print(\"knock knock knock kash\")"
      ],
      "execution_count": null,
      "outputs": []
    },
    {
      "cell_type": "code",
      "metadata": {
        "id": "ckMOjnKRk61e"
      },
      "source": [
        "sheldon_knock()\r\n",
        "print(10+30)\r\n",
        "\r\n",
        "for i in range(10):\r\n",
        "  print(i)\r\n",
        "sheldon_knock()\r\n",
        "\r\n"
      ],
      "execution_count": null,
      "outputs": []
    },
    {
      "cell_type": "code",
      "metadata": {
        "id": "K5Mqy2lBomSn"
      },
      "source": [
        ""
      ],
      "execution_count": null,
      "outputs": []
    },
    {
      "cell_type": "code",
      "metadata": {
        "id": "evVzovY2omaf"
      },
      "source": [
        ""
      ],
      "execution_count": null,
      "outputs": []
    },
    {
      "cell_type": "markdown",
      "metadata": {
        "id": "t-GasCQAmWPS"
      },
      "source": [
        "functions as parameter\r\n"
      ]
    },
    {
      "cell_type": "code",
      "metadata": {
        "id": "Gh3bqhepk64H"
      },
      "source": [
        "def sheldon_knock(name):\r\n",
        "\r\n",
        "  print(\"knock knock knock {} \".format(name))\r\n",
        "  print(\"knock knock knock {} \".format(name))\r\n",
        "  print(\"knock knock knock {} \".format(name))"
      ],
      "execution_count": null,
      "outputs": []
    },
    {
      "cell_type": "code",
      "metadata": {
        "id": "dtRUXJZwk67w"
      },
      "source": [
        "sheldon_knock(\"penny\")"
      ],
      "execution_count": null,
      "outputs": []
    },
    {
      "cell_type": "code",
      "metadata": {
        "id": "4pwXdj_dk6-l"
      },
      "source": [
        "def sheldon_knock(name,number_of_time = 3):\r\n",
        "       for i in range(number_of_time):\r\n",
        "         print(\"knock knock knock {} \".format(name))"
      ],
      "execution_count": null,
      "outputs": []
    },
    {
      "cell_type": "code",
      "metadata": {
        "id": "QAJ36qe2k7Bc"
      },
      "source": [
        "sheldon_knock(\"penny\",10)"
      ],
      "execution_count": null,
      "outputs": []
    },
    {
      "cell_type": "code",
      "metadata": {
        "id": "uq0_w0psk7EF"
      },
      "source": [
        ""
      ],
      "execution_count": null,
      "outputs": []
    },
    {
      "cell_type": "code",
      "metadata": {
        "id": "3TLTAs4Bk7G-"
      },
      "source": [
        ""
      ],
      "execution_count": null,
      "outputs": []
    },
    {
      "cell_type": "markdown",
      "metadata": {
        "id": "7N1bLGQtoWSS"
      },
      "source": [
        "**return** *statement*"
      ]
    },
    {
      "cell_type": "code",
      "metadata": {
        "id": "zogfOC_8k7KB"
      },
      "source": [
        "def add(a,b) :\r\n",
        "  return a+b "
      ],
      "execution_count": null,
      "outputs": []
    },
    {
      "cell_type": "code",
      "metadata": {
        "id": "epWjs77Yk7M8"
      },
      "source": [
        "x = add(5,15)"
      ],
      "execution_count": null,
      "outputs": []
    },
    {
      "cell_type": "code",
      "metadata": {
        "id": "UegEb_q3k7QA"
      },
      "source": [
        "print(x)"
      ],
      "execution_count": null,
      "outputs": []
    },
    {
      "cell_type": "code",
      "metadata": {
        "id": "Ffp9Amsjk7St"
      },
      "source": [
        "def div(a,b):\r\n",
        "  try:\r\n",
        "    return a/b\r\n",
        "\r\n",
        "  except:\r\n",
        "      print(\"error\")\r\n",
        "  finally:\r\n",
        "      print(\"wrapping up\")"
      ],
      "execution_count": null,
      "outputs": []
    },
    {
      "cell_type": "code",
      "metadata": {
        "id": "DEwxDeatk7VQ"
      },
      "source": [
        "div(10,1)"
      ],
      "execution_count": null,
      "outputs": []
    },
    {
      "cell_type": "code",
      "metadata": {
        "id": "YovT7xp-k7X7"
      },
      "source": [
        ""
      ],
      "execution_count": null,
      "outputs": []
    },
    {
      "cell_type": "code",
      "metadata": {
        "id": "pczsDf4nk7aP"
      },
      "source": [
        ""
      ],
      "execution_count": null,
      "outputs": []
    },
    {
      "cell_type": "code",
      "metadata": {
        "id": "74JIGUALk7dI"
      },
      "source": [
        ""
      ],
      "execution_count": null,
      "outputs": []
    },
    {
      "cell_type": "markdown",
      "metadata": {
        "id": "odzwlcODpxGn"
      },
      "source": [
        "local and global variable"
      ]
    },
    {
      "cell_type": "code",
      "metadata": {
        "id": "_FAqk9Pok7fx"
      },
      "source": [
        "x=10\r\n",
        "def show():\r\n",
        "  x=5\r\n",
        "  print(x)"
      ],
      "execution_count": null,
      "outputs": []
    },
    {
      "cell_type": "code",
      "metadata": {
        "id": "wLb1R4sAp0dd"
      },
      "source": [
        "show()\r\n",
        "print(x)"
      ],
      "execution_count": null,
      "outputs": []
    },
    {
      "cell_type": "code",
      "metadata": {
        "id": "HwZJR0A7p0gs"
      },
      "source": [
        "x=10\r\n",
        "def show():\r\n",
        "  x+=5\r\n",
        "  print(x)"
      ],
      "execution_count": null,
      "outputs": []
    },
    {
      "cell_type": "code",
      "metadata": {
        "id": "O3XAxJpup0jy"
      },
      "source": [
        "#show()\r\n",
        "#print(x) this will throw error "
      ],
      "execution_count": null,
      "outputs": []
    },
    {
      "cell_type": "code",
      "metadata": {
        "id": "fjYNqIlAp0xR"
      },
      "source": [
        "x=10\r\n",
        "def show():\r\n",
        "  global x\r\n",
        "  x+=5\r\n",
        "  print(x)"
      ],
      "execution_count": null,
      "outputs": []
    },
    {
      "cell_type": "code",
      "metadata": {
        "id": "O9kNxUFek7iT"
      },
      "source": [
        "show()\r\n",
        "print(x)"
      ],
      "execution_count": null,
      "outputs": []
    },
    {
      "cell_type": "code",
      "metadata": {
        "id": "8eb0HU53qplu"
      },
      "source": [
        ""
      ],
      "execution_count": null,
      "outputs": []
    },
    {
      "cell_type": "code",
      "metadata": {
        "id": "tQY6HN3yqpp3"
      },
      "source": [
        ""
      ],
      "execution_count": null,
      "outputs": []
    },
    {
      "cell_type": "markdown",
      "metadata": {
        "id": "xXPMB4_DtPn3"
      },
      "source": [
        "Default arguments values"
      ]
    },
    {
      "cell_type": "code",
      "metadata": {
        "id": "_XsHJJVBqpty"
      },
      "source": [
        "#def abc(a,b,c,d=10,e=20)"
      ],
      "execution_count": null,
      "outputs": []
    },
    {
      "cell_type": "code",
      "metadata": {
        "id": "SB8hipPjqpv4"
      },
      "source": [
        "def show(a,b,c):\r\n",
        "  print(a)\r\n",
        "  print(b)\r\n",
        "  print(c)"
      ],
      "execution_count": null,
      "outputs": []
    },
    {
      "cell_type": "code",
      "metadata": {
        "id": "oCuSYI-qqpzv"
      },
      "source": [
        "show(\"hello\",\"world\",\"python\")"
      ],
      "execution_count": null,
      "outputs": []
    },
    {
      "cell_type": "code",
      "metadata": {
        "id": "NxgGUkwXqp3H"
      },
      "source": [
        "show(c=\"hello\",b=\"world\",a=\"python\")"
      ],
      "execution_count": null,
      "outputs": []
    },
    {
      "cell_type": "code",
      "metadata": {
        "id": "752ozDhxqp6T"
      },
      "source": [
        "print? # will open a help window"
      ],
      "execution_count": null,
      "outputs": []
    },
    {
      "cell_type": "code",
      "metadata": {
        "id": "31GgRKITqqOK"
      },
      "source": [
        ""
      ],
      "execution_count": null,
      "outputs": []
    },
    {
      "cell_type": "code",
      "metadata": {
        "id": "HZtSATGdqqRa"
      },
      "source": [
        "def show(* args):          #it is not related to pointer\r\n",
        " print(args)"
      ],
      "execution_count": null,
      "outputs": []
    },
    {
      "cell_type": "code",
      "metadata": {
        "id": "es4wxzYPuEoq"
      },
      "source": [
        "show(1,2,3, \"kash!\")"
      ],
      "execution_count": null,
      "outputs": []
    },
    {
      "cell_type": "code",
      "metadata": {
        "id": "r0gjthzjuEsc"
      },
      "source": [
        "show(\"kash\")"
      ],
      "execution_count": null,
      "outputs": []
    },
    {
      "cell_type": "code",
      "metadata": {
        "id": "Oe77ojFtuEwY"
      },
      "source": [
        "def show(a,b,c,*args,d=10,e=20):\r\n",
        "  print(a)\r\n",
        "  print(args)\r\n",
        "  print(d)\r\n",
        "  print(e)"
      ],
      "execution_count": null,
      "outputs": []
    },
    {
      "cell_type": "code",
      "metadata": {
        "id": "xfhnVzpAuvur"
      },
      "source": [
        "show(1,2,3,\"kash\",\"moulik\",d=20)"
      ],
      "execution_count": null,
      "outputs": []
    },
    {
      "cell_type": "code",
      "metadata": {
        "id": "pphjcxseuvyx"
      },
      "source": [
        "def show(a,b,c,*args,d=10,e=20,**kwargs):   #this kinda formmat we should always follow\r\n",
        "  print(a)   \r\n",
        "  print(args)\r\n",
        "  print(d)\r\n",
        "  print(e)\r\n",
        "  print(kwargs)                      #kwargs : key worded arguments"
      ],
      "execution_count": null,
      "outputs": []
    },
    {
      "cell_type": "code",
      "metadata": {
        "id": "cuG76DZRuv25"
      },
      "source": [
        "show(1,2,3,\"kash\",\"moulik\",d=20, name=\"kash\")"
      ],
      "execution_count": null,
      "outputs": []
    },
    {
      "cell_type": "code",
      "metadata": {
        "id": "Dh7zmLNJuv7i"
      },
      "source": [
        ""
      ],
      "execution_count": null,
      "outputs": []
    },
    {
      "cell_type": "code",
      "metadata": {
        "id": "TrwzgHGuuwAP"
      },
      "source": [
        ""
      ],
      "execution_count": null,
      "outputs": []
    },
    {
      "cell_type": "markdown",
      "metadata": {
        "id": "6yj8djlbwLst"
      },
      "source": [
        "#Lamda Functions\r\n",
        "#### syntactical sugar"
      ]
    },
    {
      "cell_type": "code",
      "metadata": {
        "id": "Q9VOIjy9uwEs"
      },
      "source": [
        "def add(a,b):\r\n",
        "  return a+b"
      ],
      "execution_count": null,
      "outputs": []
    },
    {
      "cell_type": "code",
      "metadata": {
        "id": "aOIEU9p0uwKf"
      },
      "source": [
        "add = lambda a,b : a+b "
      ],
      "execution_count": null,
      "outputs": []
    },
    {
      "cell_type": "code",
      "metadata": {
        "id": "m-dzDxlPwxkD"
      },
      "source": [
        ""
      ],
      "execution_count": null,
      "outputs": []
    },
    {
      "cell_type": "code",
      "metadata": {
        "id": "a4MJSXx7uwO0"
      },
      "source": [
        "print(add)"
      ],
      "execution_count": null,
      "outputs": []
    },
    {
      "cell_type": "code",
      "metadata": {
        "id": "5A-jXzNUuwU4"
      },
      "source": [
        "add(1,20)"
      ],
      "execution_count": null,
      "outputs": []
    },
    {
      "cell_type": "code",
      "metadata": {
        "id": "30LGF_ASuwZl"
      },
      "source": [
        "a=[5,3,7,1,2,3]"
      ],
      "execution_count": null,
      "outputs": []
    },
    {
      "cell_type": "code",
      "metadata": {
        "id": "saGDMc1Muwdr"
      },
      "source": [
        "sorted(a)"
      ],
      "execution_count": null,
      "outputs": []
    },
    {
      "cell_type": "code",
      "metadata": {
        "id": "uVyj3z0Juwh3"
      },
      "source": [
        "a= [(\"arv\",20),(\"prat\",10),(\"jaat\",5),(\"ram\",1)]"
      ],
      "execution_count": null,
      "outputs": []
    },
    {
      "cell_type": "code",
      "metadata": {
        "id": "AV6Mzm46uwlk"
      },
      "source": [
        "sorted(a)"
      ],
      "execution_count": null,
      "outputs": []
    },
    {
      "cell_type": "code",
      "metadata": {
        "id": "aspUAlkRuwqc"
      },
      "source": [
        "sorted(a,key=lambda x:x[1])"
      ],
      "execution_count": null,
      "outputs": []
    },
    {
      "cell_type": "code",
      "metadata": {
        "id": "VccNifAwuwuW"
      },
      "source": [
        ""
      ],
      "execution_count": null,
      "outputs": []
    },
    {
      "cell_type": "code",
      "metadata": {
        "id": "_BeZeICnuwyh"
      },
      "source": [
        ""
      ],
      "execution_count": null,
      "outputs": []
    },
    {
      "cell_type": "markdown",
      "metadata": {
        "id": "IJRUrWFjzcit"
      },
      "source": [
        "Authenticator :)"
      ]
    },
    {
      "cell_type": "code",
      "metadata": {
        "id": "GOC962Dmuw2O"
      },
      "source": [
        "users = {\r\n",
        "    \"jaat\":\"password\",\r\n",
        "    \"prat\":\"CB\"\r\n",
        "}"
      ],
      "execution_count": null,
      "outputs": []
    },
    {
      "cell_type": "code",
      "metadata": {
        "id": "cwRrepC7uE0N"
      },
      "source": [
        "def show(username,password):\r\n",
        "  if username in users and users[username]==password:\r\n",
        "    print(\"hello world\")\r\n",
        "  else:\r\n",
        "      print(\"Not Authenticated\")"
      ],
      "execution_count": null,
      "outputs": []
    },
    {
      "cell_type": "code",
      "metadata": {
        "id": "nYsElCEOynBm"
      },
      "source": [
        "show(\"jaat\",\"password\")"
      ],
      "execution_count": null,
      "outputs": []
    },
    {
      "cell_type": "code",
      "metadata": {
        "id": "bvHyRIoSynFx"
      },
      "source": [
        "show(\"roh\",\"password\")"
      ],
      "execution_count": null,
      "outputs": []
    },
    {
      "cell_type": "code",
      "metadata": {
        "id": "3vKlj2S_ynJ-"
      },
      "source": [
        "def show(username,password,a,b):\r\n",
        "  if username in users and users[username]==password:\r\n",
        "    print(a+b)\r\n",
        "  else:\r\n",
        "      print(\"Not Authenticated\")"
      ],
      "execution_count": null,
      "outputs": []
    },
    {
      "cell_type": "code",
      "metadata": {
        "id": "e1rFBpCBynOZ"
      },
      "source": [
        "show(\"jaat\",\"password\",5,10)"
      ],
      "execution_count": null,
      "outputs": []
    },
    {
      "cell_type": "code",
      "metadata": {
        "id": "bc5OhbALynTy"
      },
      "source": [
        ""
      ],
      "execution_count": null,
      "outputs": []
    },
    {
      "cell_type": "code",
      "metadata": {
        "id": "uI6GGogVynYV"
      },
      "source": [
        "def temp(*args,**kwargs):\r\n",
        "  print(args)\r\n",
        "  print(kwargs)"
      ],
      "execution_count": null,
      "outputs": []
    },
    {
      "cell_type": "code",
      "metadata": {
        "id": "CbTti7wg1JQc"
      },
      "source": [
        "a=(1,2,3)"
      ],
      "execution_count": null,
      "outputs": []
    },
    {
      "cell_type": "code",
      "metadata": {
        "id": "P-eaU_GNyndb"
      },
      "source": [
        "temp()"
      ],
      "execution_count": null,
      "outputs": []
    },
    {
      "cell_type": "code",
      "metadata": {
        "id": "Ias5VbR3yniJ"
      },
      "source": [
        "temp(*a)"
      ],
      "execution_count": null,
      "outputs": []
    },
    {
      "cell_type": "code",
      "metadata": {
        "id": "2CUG2zb01NRM"
      },
      "source": [
        "temp(a)"
      ],
      "execution_count": null,
      "outputs": []
    },
    {
      "cell_type": "code",
      "metadata": {
        "id": "hhBTePB-1NVn"
      },
      "source": [
        ""
      ],
      "execution_count": null,
      "outputs": []
    },
    {
      "cell_type": "code",
      "metadata": {
        "id": "u86ssl8S1NaX"
      },
      "source": [
        ""
      ],
      "execution_count": null,
      "outputs": []
    },
    {
      "cell_type": "code",
      "metadata": {
        "id": "W3K-xunl1Nex"
      },
      "source": [
        ""
      ],
      "execution_count": null,
      "outputs": []
    },
    {
      "cell_type": "code",
      "metadata": {
        "id": "ma0W8Wh-ynnm"
      },
      "source": [
        "def login_req(func):\r\n",
        "  def wrapper(username,password,*args,**kwargs):\r\n",
        "    if username in users and users[username]==password:\r\n",
        "      func(*args,**kwargs)\r\n",
        "    else:\r\n",
        "        print(\"NA\")\r\n",
        "\r\n",
        "  return wrapper      "
      ],
      "execution_count": null,
      "outputs": []
    },
    {
      "cell_type": "code",
      "metadata": {
        "id": "N5UetQQbynsn"
      },
      "source": [
        "def add(a,b):\r\n",
        "  print(a+b)"
      ],
      "execution_count": null,
      "outputs": []
    },
    {
      "cell_type": "code",
      "metadata": {
        "id": "CW4CpSSDylc-"
      },
      "source": [
        "add(1,2)"
      ],
      "execution_count": null,
      "outputs": []
    },
    {
      "cell_type": "code",
      "metadata": {
        "id": "_c-V_mXZylhY"
      },
      "source": [
        "protected_add = login_req(add)"
      ],
      "execution_count": null,
      "outputs": []
    },
    {
      "cell_type": "code",
      "metadata": {
        "id": "uo45N0HUylmU"
      },
      "source": [
        "protected_add(\"prat\",\"CB\",1,2)"
      ],
      "execution_count": null,
      "outputs": []
    },
    {
      "cell_type": "code",
      "metadata": {
        "id": "73kAmgOdylqu"
      },
      "source": [
        ""
      ],
      "execution_count": null,
      "outputs": []
    },
    {
      "cell_type": "code",
      "metadata": {
        "id": "fI7AgKrxyluz"
      },
      "source": [
        ""
      ],
      "execution_count": null,
      "outputs": []
    },
    {
      "cell_type": "code",
      "metadata": {
        "id": "5zzOJe4Yylzu"
      },
      "source": [
        "def add(a,b):\r\n",
        "  print(a+b)\r\n",
        "add= login_req(add)"
      ],
      "execution_count": null,
      "outputs": []
    },
    {
      "cell_type": "code",
      "metadata": {
        "id": "GLRDxWL6yl3_"
      },
      "source": [
        "@login_req\r\n",
        "def add(a,b):\r\n",
        "  print(a+b)"
      ],
      "execution_count": null,
      "outputs": []
    },
    {
      "cell_type": "code",
      "metadata": {
        "id": "qvnXZCkByl8Z"
      },
      "source": [
        "add(\"prat\",\"CB\",1,2)"
      ],
      "execution_count": null,
      "outputs": []
    },
    {
      "cell_type": "code",
      "metadata": {
        "id": "rpvJoFLmymA0"
      },
      "source": [
        ""
      ],
      "execution_count": null,
      "outputs": []
    },
    {
      "cell_type": "code",
      "metadata": {
        "id": "trIk3-EkymF_"
      },
      "source": [
        ""
      ],
      "execution_count": null,
      "outputs": []
    }
  ]
}