{
  "nbformat": 4,
  "nbformat_minor": 0,
  "metadata": {
    "colab": {
      "name": "Built In DS.ipynb",
      "private_outputs": true,
      "provenance": [],
      "authorship_tag": "ABX9TyOv5Dy7+qXyDYixOMmwvByd",
      "include_colab_link": true
    },
    "kernelspec": {
      "name": "python3",
      "display_name": "Python 3"
    }
  },
  "cells": [
    {
      "cell_type": "markdown",
      "metadata": {
        "id": "view-in-github",
        "colab_type": "text"
      },
      "source": [
        "<a href=\"https://colab.research.google.com/github/BlazeAxel99/DS-CB/blob/main/Built_In_DS.ipynb\" target=\"_parent\"><img src=\"https://colab.research.google.com/assets/colab-badge.svg\" alt=\"Open In Colab\"/></a>"
      ]
    },
    {
      "cell_type": "markdown",
      "metadata": {
        "id": "xwNQT2D_qLex"
      },
      "source": [
        "Most Data Structure in pythin are immutable \r\n",
        "\r\n",
        "\r\n",
        "Mutable ones are:\r\n",
        "\r\n",
        "list\r\n",
        "\r\n",
        "Dict\r\n",
        "\r\n",
        "Set"
      ]
    },
    {
      "cell_type": "code",
      "metadata": {
        "id": "6WRT_I5KrAX8"
      },
      "source": [
        ""
      ],
      "execution_count": null,
      "outputs": []
    },
    {
      "cell_type": "code",
      "metadata": {
        "id": "qEcu2I5PrArj"
      },
      "source": [
        ""
      ],
      "execution_count": null,
      "outputs": []
    },
    {
      "cell_type": "markdown",
      "metadata": {
        "id": "2o3eMGmEqtrw"
      },
      "source": [
        "Strings"
      ]
    },
    {
      "cell_type": "code",
      "metadata": {
        "id": "-8MamNQJrVKP"
      },
      "source": [
        "#ASCII RANGE 0 to 256 (2^8)"
      ],
      "execution_count": null,
      "outputs": []
    },
    {
      "cell_type": "code",
      "metadata": {
        "id": "Xb1LS2TPojeL"
      },
      "source": [
        "#python only deals with string dont know about char"
      ],
      "execution_count": null,
      "outputs": []
    },
    {
      "cell_type": "code",
      "metadata": {
        "id": "SQW6lC61tbWJ"
      },
      "source": [
        "a=\"kash\""
      ],
      "execution_count": null,
      "outputs": []
    },
    {
      "cell_type": "code",
      "metadata": {
        "id": "kllxZEhIrLNn"
      },
      "source": [
        "print(a)"
      ],
      "execution_count": null,
      "outputs": []
    },
    {
      "cell_type": "code",
      "metadata": {
        "id": "ckMbhR1hojhQ"
      },
      "source": [
        "a='kash'"
      ],
      "execution_count": null,
      "outputs": []
    },
    {
      "cell_type": "code",
      "metadata": {
        "id": "_RA2GtHSojkF"
      },
      "source": [
        "print(a)"
      ],
      "execution_count": null,
      "outputs": []
    },
    {
      "cell_type": "code",
      "metadata": {
        "id": "HVaFArCNojmw"
      },
      "source": [
        "a= \"\"\"\r\n",
        "   this is  =a multi line\r\n",
        "   string\r\n",
        "\"\"\"   "
      ],
      "execution_count": null,
      "outputs": []
    },
    {
      "cell_type": "code",
      "metadata": {
        "id": "RzVfXjO2ojpS"
      },
      "source": [
        "a"
      ],
      "execution_count": null,
      "outputs": []
    },
    {
      "cell_type": "code",
      "metadata": {
        "id": "l8dI19hIojud"
      },
      "source": [
        "a = '''\r\n",
        "   this is  a \r\n",
        "   multi line\r\n",
        "   string \r\n",
        "   as well\r\n",
        "''' "
      ],
      "execution_count": null,
      "outputs": []
    },
    {
      "cell_type": "code",
      "metadata": {
        "id": "ePrWBWWpojxY"
      },
      "source": [
        "a"
      ],
      "execution_count": null,
      "outputs": []
    },
    {
      "cell_type": "code",
      "metadata": {
        "id": "Ws1n8eQmoj0Q"
      },
      "source": [
        "print(a)"
      ],
      "execution_count": null,
      "outputs": []
    },
    {
      "cell_type": "code",
      "metadata": {
        "id": "PtK1EoKhoj3m"
      },
      "source": [
        "# pytjon treat char as str of len 1"
      ],
      "execution_count": null,
      "outputs": []
    },
    {
      "cell_type": "code",
      "metadata": {
        "id": "PDI6dkXBolLV"
      },
      "source": [
        ""
      ],
      "execution_count": null,
      "outputs": []
    },
    {
      "cell_type": "code",
      "metadata": {
        "id": "WrELZLq8olOF"
      },
      "source": [
        ""
      ],
      "execution_count": null,
      "outputs": []
    },
    {
      "cell_type": "markdown",
      "metadata": {
        "id": "w-FjoMPRu7ax"
      },
      "source": [
        "**Some string operations first!**\r\n",
        "###### format, strip, split, replace, count....."
      ]
    },
    {
      "cell_type": "code",
      "metadata": {
        "id": "hN_8bWXJolRA"
      },
      "source": [
        "a=1\r\n",
        "b=2\r\n",
        "c =3"
      ],
      "execution_count": null,
      "outputs": []
    },
    {
      "cell_type": "code",
      "metadata": {
        "id": "w4lanZVColVh"
      },
      "source": [
        "print(str(a) + \"-\" + str(b)+ \"-\" + str(c))"
      ],
      "execution_count": null,
      "outputs": []
    },
    {
      "cell_type": "code",
      "metadata": {
        "id": "l1lgqSProlYZ"
      },
      "source": [
        "print(\"%d-%d-%d\" % (a,b,c))"
      ],
      "execution_count": null,
      "outputs": []
    },
    {
      "cell_type": "code",
      "metadata": {
        "id": "IXviQaWqolbh"
      },
      "source": [
        "print(\"{}-{}-{}\".format(a,b,c))"
      ],
      "execution_count": null,
      "outputs": []
    },
    {
      "cell_type": "code",
      "metadata": {
        "id": "bbPvjM7J2w44"
      },
      "source": [
        ""
      ],
      "execution_count": null,
      "outputs": []
    },
    {
      "cell_type": "code",
      "metadata": {
        "id": "feYSowTm2w9i"
      },
      "source": [
        ""
      ],
      "execution_count": null,
      "outputs": []
    },
    {
      "cell_type": "code",
      "metadata": {
        "id": "Rg8C1Ab5oleJ"
      },
      "source": [
        "fn = \"kash\"\r\n",
        "ln = \"moulik\""
      ],
      "execution_count": null,
      "outputs": []
    },
    {
      "cell_type": "code",
      "metadata": {
        "id": "kXg1QM9AolhG"
      },
      "source": [
        "print(f\"{ln},{fn} \")"
      ],
      "execution_count": null,
      "outputs": []
    },
    {
      "cell_type": "code",
      "metadata": {
        "id": "L4i7qKk3olkJ"
      },
      "source": [
        "a=\"          kash.\""
      ],
      "execution_count": null,
      "outputs": []
    },
    {
      "cell_type": "code",
      "metadata": {
        "id": "iTdwOw7NolnF"
      },
      "source": [
        "print(a)"
      ],
      "execution_count": null,
      "outputs": []
    },
    {
      "cell_type": "code",
      "metadata": {
        "id": "-WqNsUv2olp6"
      },
      "source": [
        "print(a.strip())"
      ],
      "execution_count": null,
      "outputs": []
    },
    {
      "cell_type": "code",
      "metadata": {
        "id": "euZgcwh-3eLc"
      },
      "source": [
        "a = input( )"
      ],
      "execution_count": null,
      "outputs": []
    },
    {
      "cell_type": "code",
      "metadata": {
        "id": "y1rzEmsOolsw"
      },
      "source": [
        "a.strip()== \"yes\""
      ],
      "execution_count": null,
      "outputs": []
    },
    {
      "cell_type": "code",
      "metadata": {
        "id": "jJb9JfOlolvf"
      },
      "source": [
        "a"
      ],
      "execution_count": null,
      "outputs": []
    },
    {
      "cell_type": "code",
      "metadata": {
        "id": "0LHWyF9dolyy"
      },
      "source": [
        ""
      ],
      "execution_count": null,
      "outputs": []
    },
    {
      "cell_type": "code",
      "metadata": {
        "id": "koEw7nbWol1q"
      },
      "source": [
        ""
      ],
      "execution_count": null,
      "outputs": []
    },
    {
      "cell_type": "markdown",
      "metadata": {
        "id": "KxeL_53532pd"
      },
      "source": [
        "Split"
      ]
    },
    {
      "cell_type": "code",
      "metadata": {
        "id": "wSH7Qz0fol4j"
      },
      "source": [
        "a = input()"
      ],
      "execution_count": null,
      "outputs": []
    },
    {
      "cell_type": "code",
      "metadata": {
        "id": "_LrJNVr7ol7m"
      },
      "source": [
        "a"
      ],
      "execution_count": null,
      "outputs": []
    },
    {
      "cell_type": "code",
      "metadata": {
        "id": "IygepFCCol-g"
      },
      "source": [
        "a.split(' ')"
      ],
      "execution_count": null,
      "outputs": []
    },
    {
      "cell_type": "code",
      "metadata": {
        "id": "q7aB-MWE4KRs"
      },
      "source": [
        "a = \" kash \""
      ],
      "execution_count": null,
      "outputs": []
    },
    {
      "cell_type": "code",
      "metadata": {
        "id": "sOHGYA364KVv"
      },
      "source": [
        "#a[0] = 1 this method do not work in py"
      ],
      "execution_count": null,
      "outputs": []
    },
    {
      "cell_type": "code",
      "metadata": {
        "id": "9-WHmqP04KaI"
      },
      "source": [
        "a.replace('k','9')"
      ],
      "execution_count": null,
      "outputs": []
    },
    {
      "cell_type": "code",
      "metadata": {
        "id": "jWld5Tat4Kmw"
      },
      "source": [
        "a=\"aaaaaaaaabbbbbbbcccccc\""
      ],
      "execution_count": null,
      "outputs": []
    },
    {
      "cell_type": "code",
      "metadata": {
        "id": "FCwTmdYK4Kqg"
      },
      "source": [
        "a.replace('a','z')"
      ],
      "execution_count": null,
      "outputs": []
    },
    {
      "cell_type": "code",
      "metadata": {
        "id": "iouYjb4F4Kup"
      },
      "source": [
        "a.count('a')"
      ],
      "execution_count": null,
      "outputs": []
    },
    {
      "cell_type": "code",
      "metadata": {
        "id": "h1_Y69Ro4Ky7"
      },
      "source": [
        "a.count('aa')"
      ],
      "execution_count": null,
      "outputs": []
    },
    {
      "cell_type": "code",
      "metadata": {
        "id": "UeRgiRqH4K3C"
      },
      "source": [
        ""
      ],
      "execution_count": null,
      "outputs": []
    },
    {
      "cell_type": "code",
      "metadata": {
        "id": "S-D-pCos6ZQD"
      },
      "source": [
        ""
      ],
      "execution_count": null,
      "outputs": []
    },
    {
      "cell_type": "markdown",
      "metadata": {
        "id": "Za-dAAT49xfU"
      },
      "source": [
        "TUPLE"
      ]
    },
    {
      "cell_type": "code",
      "metadata": {
        "id": "iD34w3zz6ZVS"
      },
      "source": [
        "a=[1,2,3,4]"
      ],
      "execution_count": null,
      "outputs": []
    },
    {
      "cell_type": "code",
      "metadata": {
        "id": "pQ101jmk6ZZs"
      },
      "source": [
        "a[0]=5"
      ],
      "execution_count": null,
      "outputs": []
    },
    {
      "cell_type": "code",
      "metadata": {
        "id": "PXP7no606ZeJ"
      },
      "source": [
        "id(a)"
      ],
      "execution_count": null,
      "outputs": []
    },
    {
      "cell_type": "code",
      "metadata": {
        "id": "75jPJW6R6ZiB"
      },
      "source": [
        "a[0]=1"
      ],
      "execution_count": null,
      "outputs": []
    },
    {
      "cell_type": "code",
      "metadata": {
        "id": "aEn_LEiF4K6o"
      },
      "source": [
        "id(a)"
      ],
      "execution_count": null,
      "outputs": []
    },
    {
      "cell_type": "code",
      "metadata": {
        "id": "rZGwnYXO4K-5"
      },
      "source": [
        "a=(1,2,3,4,5)#tuples "
      ],
      "execution_count": null,
      "outputs": []
    },
    {
      "cell_type": "code",
      "metadata": {
        "id": "B2f1o3sZ4LC-"
      },
      "source": [
        "a[0]=1"
      ],
      "execution_count": null,
      "outputs": []
    },
    {
      "cell_type": "code",
      "metadata": {
        "id": "5LGq5loA9-yC"
      },
      "source": [
        "def func(*args):\r\n",
        "    print(args)"
      ],
      "execution_count": null,
      "outputs": []
    },
    {
      "cell_type": "code",
      "metadata": {
        "id": "LzzQRLaa9-2E"
      },
      "source": [
        "func(1,2,3,4)"
      ],
      "execution_count": null,
      "outputs": []
    },
    {
      "cell_type": "code",
      "metadata": {
        "id": "2cXXJDlk-2Qm"
      },
      "source": [
        ""
      ],
      "execution_count": null,
      "outputs": []
    },
    {
      "cell_type": "code",
      "metadata": {
        "id": "gv7lSlqq-2GU"
      },
      "source": [
        ""
      ],
      "execution_count": null,
      "outputs": []
    },
    {
      "cell_type": "code",
      "metadata": {
        "id": "EwSpWbwY9-6r"
      },
      "source": [
        "a=5\r\n",
        "b=9"
      ],
      "execution_count": null,
      "outputs": []
    },
    {
      "cell_type": "code",
      "metadata": {
        "id": "oh8cx7m59--2"
      },
      "source": [
        "a=a^b\r\n",
        "b=a^b\r\n",
        "a=a^b"
      ],
      "execution_count": null,
      "outputs": []
    },
    {
      "cell_type": "code",
      "metadata": {
        "id": "DPEGO7xb9_DU"
      },
      "source": [
        "print(a,b)"
      ],
      "execution_count": null,
      "outputs": []
    },
    {
      "cell_type": "code",
      "metadata": {
        "id": "cY9QSMS_9_Hu"
      },
      "source": [
        ""
      ],
      "execution_count": null,
      "outputs": []
    },
    {
      "cell_type": "code",
      "metadata": {
        "id": "FiNEVjCy9_MO"
      },
      "source": [
        "a= 1,2 #this is also tuple"
      ],
      "execution_count": null,
      "outputs": []
    },
    {
      "cell_type": "code",
      "metadata": {
        "id": "CGYScYOg9_Qi"
      },
      "source": [
        "type(a)"
      ],
      "execution_count": null,
      "outputs": []
    },
    {
      "cell_type": "code",
      "metadata": {
        "id": "7bd--NWG9_WJ"
      },
      "source": [
        "a"
      ],
      "execution_count": null,
      "outputs": []
    },
    {
      "cell_type": "code",
      "metadata": {
        "id": "j6dUc6NS_HYO"
      },
      "source": [
        "c,d = a"
      ],
      "execution_count": null,
      "outputs": []
    },
    {
      "cell_type": "code",
      "metadata": {
        "id": "iurTtAnK_Hcg"
      },
      "source": [
        "c"
      ],
      "execution_count": null,
      "outputs": []
    },
    {
      "cell_type": "code",
      "metadata": {
        "id": "jeNJeV84_Hgq"
      },
      "source": [
        "d"
      ],
      "execution_count": null,
      "outputs": []
    },
    {
      "cell_type": "code",
      "metadata": {
        "id": "FfC4ljN9_HlD"
      },
      "source": [
        "#swap"
      ],
      "execution_count": null,
      "outputs": []
    },
    {
      "cell_type": "code",
      "metadata": {
        "id": "zujHSJ8I_Ho-"
      },
      "source": [
        "b,a =a"
      ],
      "execution_count": null,
      "outputs": []
    },
    {
      "cell_type": "code",
      "metadata": {
        "id": "hxJr_pYj_leQ"
      },
      "source": [
        "print(a,b)"
      ],
      "execution_count": null,
      "outputs": []
    },
    {
      "cell_type": "code",
      "metadata": {
        "id": "CVw7ukxeABOc"
      },
      "source": [
        ""
      ],
      "execution_count": null,
      "outputs": []
    },
    {
      "cell_type": "code",
      "metadata": {
        "id": "JZdMrXpcABKN"
      },
      "source": [
        ""
      ],
      "execution_count": null,
      "outputs": []
    },
    {
      "cell_type": "markdown",
      "metadata": {
        "id": "egI-9dOv_tH5"
      },
      "source": [
        "List to tuple and tuple to list"
      ]
    },
    {
      "cell_type": "code",
      "metadata": {
        "id": "ZO7Sn002_lZK"
      },
      "source": [
        "a = 1,2,3"
      ],
      "execution_count": null,
      "outputs": []
    },
    {
      "cell_type": "code",
      "metadata": {
        "id": "DaJJV-A1_lUo"
      },
      "source": [
        "a= list(\"kash\")"
      ],
      "execution_count": null,
      "outputs": []
    },
    {
      "cell_type": "code",
      "metadata": {
        "id": "GwXwKSnj_lPs"
      },
      "source": [
        "a"
      ],
      "execution_count": null,
      "outputs": []
    },
    {
      "cell_type": "code",
      "metadata": {
        "id": "qK9QPNOZ_lLA"
      },
      "source": [
        "a = tuple(a)"
      ],
      "execution_count": null,
      "outputs": []
    },
    {
      "cell_type": "code",
      "metadata": {
        "id": "MSLD4_PN_lG0"
      },
      "source": [
        "a"
      ],
      "execution_count": null,
      "outputs": []
    },
    {
      "cell_type": "code",
      "metadata": {
        "id": "KZur-OP1_lCW"
      },
      "source": [
        ""
      ],
      "execution_count": null,
      "outputs": []
    },
    {
      "cell_type": "code",
      "metadata": {
        "id": "PTB-oHWH_k9v"
      },
      "source": [
        ""
      ],
      "execution_count": null,
      "outputs": []
    },
    {
      "cell_type": "markdown",
      "metadata": {
        "id": "yEAPCTcuA53y"
      },
      "source": [
        "Returning multiple values from functions (the returned thing is a tuple!)"
      ]
    },
    {
      "cell_type": "code",
      "metadata": {
        "id": "sUXFC5JS_k5v"
      },
      "source": [
        "def addsub(a,b):\r\n",
        "  return a+b,a-b"
      ],
      "execution_count": null,
      "outputs": []
    },
    {
      "cell_type": "code",
      "metadata": {
        "id": "W6MfCQ4kBIFS"
      },
      "source": [
        "addsub(9,5)"
      ],
      "execution_count": null,
      "outputs": []
    },
    {
      "cell_type": "code",
      "metadata": {
        "id": "nedVuKr6BH_u"
      },
      "source": [
        "sum, diff =addsub(9,5)"
      ],
      "execution_count": null,
      "outputs": []
    },
    {
      "cell_type": "code",
      "metadata": {
        "id": "063vt0_vBH5_"
      },
      "source": [
        "sum"
      ],
      "execution_count": null,
      "outputs": []
    },
    {
      "cell_type": "code",
      "metadata": {
        "id": "h_T5kaUxBH0b"
      },
      "source": [
        "diff"
      ],
      "execution_count": null,
      "outputs": []
    },
    {
      "cell_type": "code",
      "metadata": {
        "id": "SISNlS2WBHu3"
      },
      "source": [
        ""
      ],
      "execution_count": null,
      "outputs": []
    },
    {
      "cell_type": "code",
      "metadata": {
        "id": "fGrPtUcdBHq0"
      },
      "source": [
        ""
      ],
      "execution_count": null,
      "outputs": []
    },
    {
      "cell_type": "markdown",
      "metadata": {
        "id": "lC7pieK6EIBz"
      },
      "source": [
        "Dictionaries"
      ]
    },
    {
      "cell_type": "code",
      "metadata": {
        "id": "x_OdE_7VEIhf"
      },
      "source": [
        "a={\r\n",
        "    \"name\":\"kash\",\r\n",
        "    \"marks\": 90,\r\n",
        "   \"subjects\": [\"eng\",\"math\"],\r\n",
        "   \"friends\":{\r\n",
        "       \"jaat\":\"py\",\r\n",
        "   }\r\n",
        "}"
      ],
      "execution_count": null,
      "outputs": []
    },
    {
      "cell_type": "code",
      "metadata": {
        "id": "9oq6SkkcEIlw"
      },
      "source": [
        "a[\"friends\"]"
      ],
      "execution_count": null,
      "outputs": []
    },
    {
      "cell_type": "code",
      "metadata": {
        "id": "EVJBrb1CEIqa"
      },
      "source": [
        "for key in a:\r\n",
        "  print(key)"
      ],
      "execution_count": null,
      "outputs": []
    },
    {
      "cell_type": "code",
      "metadata": {
        "id": "8zWU0vVfEIvJ"
      },
      "source": [
        ""
      ],
      "execution_count": null,
      "outputs": []
    },
    {
      "cell_type": "code",
      "metadata": {
        "id": "q_k6cyBsEI0y"
      },
      "source": [
        ""
      ],
      "execution_count": null,
      "outputs": []
    },
    {
      "cell_type": "markdown",
      "metadata": {
        "id": "hXdYleM8E80c"
      },
      "source": [
        "**some imp dict method**\r\n",
        "\r\n",
        "\r\n",
        "1.   get()\r\n",
        "2.  items()\r\n",
        "3.   keys()\r\n",
        "4.  values()\r\n",
        "5. clear()"
      ]
    },
    {
      "cell_type": "code",
      "metadata": {
        "id": "vHfFaoIZEI6o"
      },
      "source": [
        "for key,value in a.items():\r\n",
        "  print(key,'=>',value)"
      ],
      "execution_count": null,
      "outputs": []
    },
    {
      "cell_type": "code",
      "metadata": {
        "id": "NOMpTr4bEJAi"
      },
      "source": [
        "for value in a.values():\r\n",
        "  print(value)"
      ],
      "execution_count": null,
      "outputs": []
    },
    {
      "cell_type": "code",
      "metadata": {
        "id": "mdVxcsNDEJGT"
      },
      "source": [
        ""
      ],
      "execution_count": null,
      "outputs": []
    },
    {
      "cell_type": "code",
      "metadata": {
        "id": "TmP-yT6SEJMN"
      },
      "source": [
        ""
      ],
      "execution_count": null,
      "outputs": []
    },
    {
      "cell_type": "markdown",
      "metadata": {
        "id": "6MbpaYIiGLNO"
      },
      "source": [
        "challenge "
      ]
    },
    {
      "cell_type": "code",
      "metadata": {
        "id": "5AqR03hfEJX0"
      },
      "source": [
        "students = []"
      ],
      "execution_count": null,
      "outputs": []
    },
    {
      "cell_type": "code",
      "metadata": {
        "id": "77ALJYUkEJcZ"
      },
      "source": [
        "n= int(input())"
      ],
      "execution_count": null,
      "outputs": []
    },
    {
      "cell_type": "code",
      "metadata": {
        "id": "wqCTNr8oEJhC"
      },
      "source": [
        "for _ in range(n):\r\n",
        "  roll = int(input())\r\n",
        "  name = input()\r\n",
        "  branch = input()\r\n",
        "\r\n",
        "  students.append({\r\n",
        "      \"roll-no\" : roll,\r\n",
        "      \"name\" : name,\r\n",
        "      \"branch\" : branch\r\n",
        "  })"
      ],
      "execution_count": null,
      "outputs": []
    },
    {
      "cell_type": "code",
      "metadata": {
        "id": "-WvwQXHiEJle"
      },
      "source": [
        "students"
      ],
      "execution_count": null,
      "outputs": []
    },
    {
      "cell_type": "code",
      "metadata": {
        "id": "4mIM4mSmEJqK"
      },
      "source": [
        "#key in dict can be ANY immutable DS"
      ],
      "execution_count": null,
      "outputs": []
    },
    {
      "cell_type": "code",
      "metadata": {
        "id": "si0fOAjtEJum"
      },
      "source": [
        ""
      ],
      "execution_count": null,
      "outputs": []
    },
    {
      "cell_type": "code",
      "metadata": {
        "id": "7o_GIXzhJCEp"
      },
      "source": [
        ""
      ],
      "execution_count": null,
      "outputs": []
    },
    {
      "cell_type": "markdown",
      "metadata": {
        "id": "TD96-8AK2GPD"
      },
      "source": [
        "SETS"
      ]
    },
    {
      "cell_type": "code",
      "metadata": {
        "id": "0zdmjoE12KCI"
      },
      "source": [
        "a = set()"
      ],
      "execution_count": null,
      "outputs": []
    },
    {
      "cell_type": "code",
      "metadata": {
        "id": "bf5RYjfcJCK8"
      },
      "source": [
        "a= {1,2,3,4}"
      ],
      "execution_count": null,
      "outputs": []
    },
    {
      "cell_type": "code",
      "metadata": {
        "id": "AO5m8J4CJCQV"
      },
      "source": [
        "b = {3,4,5,6}"
      ],
      "execution_count": null,
      "outputs": []
    },
    {
      "cell_type": "code",
      "metadata": {
        "id": "1spDJRU8JCV2"
      },
      "source": [
        "a.intersection(b)"
      ],
      "execution_count": null,
      "outputs": []
    },
    {
      "cell_type": "code",
      "metadata": {
        "id": "VmyZOAnQJCa0"
      },
      "source": [
        "a.union(b)"
      ],
      "execution_count": null,
      "outputs": []
    },
    {
      "cell_type": "code",
      "metadata": {
        "id": "EUDMvWLhJCca"
      },
      "source": [
        "a - b"
      ],
      "execution_count": null,
      "outputs": []
    },
    {
      "cell_type": "code",
      "metadata": {
        "id": "NWKVkkvWJCeL"
      },
      "source": [
        "a[1]"
      ],
      "execution_count": null,
      "outputs": []
    },
    {
      "cell_type": "code",
      "metadata": {
        "id": "ObZKrdCDJCje"
      },
      "source": [
        "for i in a:\r\n",
        "  print(i)"
      ],
      "execution_count": null,
      "outputs": []
    },
    {
      "cell_type": "code",
      "metadata": {
        "id": "PK0hi566JCpl"
      },
      "source": [
        "a = {1,2,3,4,1,2,3,4}"
      ],
      "execution_count": null,
      "outputs": []
    },
    {
      "cell_type": "code",
      "metadata": {
        "id": "Ufq5jju_JCvo"
      },
      "source": [
        "a #do not allow duplicate"
      ],
      "execution_count": null,
      "outputs": []
    },
    {
      "cell_type": "code",
      "metadata": {
        "id": "K-QkqgceJC1G"
      },
      "source": [
        "len(a)"
      ],
      "execution_count": null,
      "outputs": []
    },
    {
      "cell_type": "code",
      "metadata": {
        "id": "6NdllH0PJC6i"
      },
      "source": [
        "a= [1,2,2,1,2,2,1,1]"
      ],
      "execution_count": null,
      "outputs": []
    },
    {
      "cell_type": "code",
      "metadata": {
        "id": "Oy5wm379JDAE"
      },
      "source": [
        "list(set(a)) #deduplicating"
      ],
      "execution_count": null,
      "outputs": []
    },
    {
      "cell_type": "code",
      "metadata": {
        "id": "tLkO_XuOJDHU"
      },
      "source": [
        ""
      ],
      "execution_count": null,
      "outputs": []
    },
    {
      "cell_type": "code",
      "metadata": {
        "id": "uQDwSw4oJDPK"
      },
      "source": [
        ""
      ],
      "execution_count": null,
      "outputs": []
    },
    {
      "cell_type": "markdown",
      "metadata": {
        "id": "vIq9hFXb3Tik"
      },
      "source": [
        "Comprehension"
      ]
    },
    {
      "cell_type": "code",
      "metadata": {
        "id": "DdbLYrvDJDUo"
      },
      "source": [
        "a=[]\r\n",
        "for i in range(10):\r\n",
        "  a.append(i**2)"
      ],
      "execution_count": null,
      "outputs": []
    },
    {
      "cell_type": "code",
      "metadata": {
        "id": "jSPBuZja3Wn-"
      },
      "source": [
        "print(a)"
      ],
      "execution_count": null,
      "outputs": []
    },
    {
      "cell_type": "markdown",
      "metadata": {
        "id": "bBi7VRSe3_9P"
      },
      "source": [
        "list comprehension"
      ]
    },
    {
      "cell_type": "code",
      "metadata": {
        "id": "dmurrZ5-JDaU"
      },
      "source": [
        "[i**2 for i in range(10) if i%2==0]"
      ],
      "execution_count": null,
      "outputs": []
    },
    {
      "cell_type": "markdown",
      "metadata": {
        "id": "4dXnqFWp4Gvx"
      },
      "source": [
        "Dict comprehension"
      ]
    },
    {
      "cell_type": "code",
      "metadata": {
        "id": "bv7vmbLqJDfv"
      },
      "source": [
        "{i:i**2 for i in range(10) if i%2==0}"
      ],
      "execution_count": null,
      "outputs": []
    },
    {
      "cell_type": "markdown",
      "metadata": {
        "id": "h_tEg-ep4T7O"
      },
      "source": [
        "SET comprehension"
      ]
    },
    {
      "cell_type": "code",
      "metadata": {
        "id": "qDGWSSssJDlQ"
      },
      "source": [
        "{i**2 for i in range(10) if i%2==0}"
      ],
      "execution_count": null,
      "outputs": []
    },
    {
      "cell_type": "markdown",
      "metadata": {
        "id": "uQpCs11X4bpx"
      },
      "source": [
        "Tuple comprehension"
      ]
    },
    {
      "cell_type": "code",
      "metadata": {
        "id": "L6aqD7pgJDur"
      },
      "source": [
        "a=(i**2 for i in range(10) if i%2==0)"
      ],
      "execution_count": null,
      "outputs": []
    },
    {
      "cell_type": "code",
      "metadata": {
        "id": "WF9hdjry4gNS"
      },
      "source": [
        "a"
      ],
      "execution_count": null,
      "outputs": []
    },
    {
      "cell_type": "code",
      "metadata": {
        "id": "wfNc1vDd4gYk"
      },
      "source": [
        ""
      ],
      "execution_count": null,
      "outputs": []
    }
  ]
}