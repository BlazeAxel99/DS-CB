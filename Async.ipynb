{
  "nbformat": 4,
  "nbformat_minor": 0,
  "metadata": {
    "colab": {
      "name": "Async.ipynb",
      "private_outputs": true,
      "provenance": [],
      "collapsed_sections": [],
      "authorship_tag": "ABX9TyM7Mg2uica3Qyhboxmsd/9v",
      "include_colab_link": true
    },
    "kernelspec": {
      "name": "python3",
      "display_name": "Python 3"
    }
  },
  "cells": [
    {
      "cell_type": "markdown",
      "metadata": {
        "id": "view-in-github",
        "colab_type": "text"
      },
      "source": [
        "<a href=\"https://colab.research.google.com/github/BlazeAxel99/DS-CB/blob/main/Async.ipynb\" target=\"_parent\"><img src=\"https://colab.research.google.com/assets/colab-badge.svg\" alt=\"Open In Colab\"/></a>"
      ]
    },
    {
      "cell_type": "markdown",
      "metadata": {
        "id": "Gle8lnRDp3TG"
      },
      "source": [
        "# Multi Process\r\n",
        "\r\n",
        "# Multi threading \r\n",
        "\r\n",
        "# Couroutines\r\n",
        "\r\n",
        "# AsyncIO\r\n",
        "\r\n"
      ]
    },
    {
      "cell_type": "code",
      "metadata": {
        "id": "esPoUpeMp75F"
      },
      "source": [
        ""
      ],
      "execution_count": null,
      "outputs": []
    },
    {
      "cell_type": "code",
      "metadata": {
        "id": "xV4j7i2Zp7uT"
      },
      "source": [
        ""
      ],
      "execution_count": null,
      "outputs": []
    },
    {
      "cell_type": "markdown",
      "metadata": {
        "id": "gAMe3_OJp7Pe"
      },
      "source": [
        "## multi process"
      ]
    },
    {
      "cell_type": "code",
      "metadata": {
        "id": "0YHe9qiWonvg"
      },
      "source": [
        "from multiprocessing import Process"
      ],
      "execution_count": null,
      "outputs": []
    },
    {
      "cell_type": "code",
      "metadata": {
        "id": "FslQ7P8qoqaf"
      },
      "source": [
        "def showSquare(num = 2):\r\n",
        "   print(num ** 2)\r\n",
        "   # for i in range(1000000000):pass it will increase processing time"
      ],
      "execution_count": null,
      "outputs": []
    },
    {
      "cell_type": "code",
      "metadata": {
        "id": "9AaWQuQjoqdd"
      },
      "source": [
        ""
      ],
      "execution_count": null,
      "outputs": []
    },
    {
      "cell_type": "code",
      "metadata": {
        "id": "tpE1TRKRoqgA"
      },
      "source": [
        "procs = []"
      ],
      "execution_count": null,
      "outputs": []
    },
    {
      "cell_type": "code",
      "metadata": {
        "id": "-3I7TvVmoqij"
      },
      "source": [
        "for i in range(5):\r\n",
        "    procs.append(Process(target = showSquare,args=(i+1, ))) #procs.append(Process(target = showSquare))"
      ],
      "execution_count": null,
      "outputs": []
    },
    {
      "cell_type": "code",
      "metadata": {
        "id": "67jmDa5Uoqla"
      },
      "source": [
        "for proc in procs:\r\n",
        "    proc.start()\r\n",
        "print(\"hello\")   "
      ],
      "execution_count": null,
      "outputs": []
    },
    {
      "cell_type": "code",
      "metadata": {
        "id": "R989QOxGoqn_"
      },
      "source": [
        "for proc in procs:\r\n",
        "    proc.join()\r\n"
      ],
      "execution_count": null,
      "outputs": []
    },
    {
      "cell_type": "code",
      "metadata": {
        "id": "fXbt3vW8oqqR"
      },
      "source": [
        ""
      ],
      "execution_count": null,
      "outputs": []
    },
    {
      "cell_type": "code",
      "metadata": {
        "id": "Kr3LBQRcuj0z"
      },
      "source": [
        ""
      ],
      "execution_count": null,
      "outputs": []
    },
    {
      "cell_type": "markdown",
      "metadata": {
        "id": "-sIMuZnkaXHJ"
      },
      "source": [
        "#Multi Threading\r\n"
      ]
    },
    {
      "cell_type": "code",
      "metadata": {
        "id": "ln0FGTHWaktN"
      },
      "source": [
        "from threading import Thread"
      ],
      "execution_count": null,
      "outputs": []
    },
    {
      "cell_type": "code",
      "metadata": {
        "id": "91x4DMGVoqsg"
      },
      "source": [
        "def square(n):\r\n",
        "  print(\"square is\",n**2)\r\n",
        "def cube(n):\r\n",
        "  print(\"cube is\",n**3)  "
      ],
      "execution_count": null,
      "outputs": []
    },
    {
      "cell_type": "code",
      "metadata": {
        "id": "CT5y5qALoqvD"
      },
      "source": [
        ""
      ],
      "execution_count": null,
      "outputs": []
    },
    {
      "cell_type": "code",
      "metadata": {
        "id": "mQQSoF-poqxo"
      },
      "source": [
        "t1= Thread(target=square,args=(4,))\r\n",
        "t2= Thread(target=cube,args=(3,))"
      ],
      "execution_count": null,
      "outputs": []
    },
    {
      "cell_type": "code",
      "metadata": {
        "id": "oVlIGOAeoq2R"
      },
      "source": [
        "t1.start()\r\n",
        "t2.start()\r\n",
        "print(\"hello\")"
      ],
      "execution_count": null,
      "outputs": []
    },
    {
      "cell_type": "code",
      "metadata": {
        "id": "Mrv-Zf4Joq4a"
      },
      "source": [
        "t1.join()"
      ],
      "execution_count": null,
      "outputs": []
    },
    {
      "cell_type": "code",
      "metadata": {
        "id": "G35hQWDTafmV"
      },
      "source": [
        "t2.join()"
      ],
      "execution_count": null,
      "outputs": []
    },
    {
      "cell_type": "code",
      "metadata": {
        "id": "Nzh8DvGYafpG"
      },
      "source": [
        ""
      ],
      "execution_count": null,
      "outputs": []
    },
    {
      "cell_type": "code",
      "metadata": {
        "id": "d2MzP62Tafrj"
      },
      "source": [
        "from queue import Queue"
      ],
      "execution_count": null,
      "outputs": []
    },
    {
      "cell_type": "code",
      "metadata": {
        "id": "3J6xFghyaft5"
      },
      "source": [
        "def producer(q):\r\n",
        "  for i in range(5):\r\n",
        "    q.put(i)\r\n",
        "    print(\"published\",i)\r\n",
        "def consumer(q):\r\n",
        "  while True:\r\n",
        "    data = q.get()\r\n",
        "    print(\"consumed\",data)    "
      ],
      "execution_count": null,
      "outputs": []
    },
    {
      "cell_type": "code",
      "metadata": {
        "id": "tpbm3CNrafwM"
      },
      "source": [
        "q = Queue()"
      ],
      "execution_count": null,
      "outputs": []
    },
    {
      "cell_type": "code",
      "metadata": {
        "id": "8wUNM2YEafyw"
      },
      "source": [
        "producer_thread = Thread(target=producer,args=(q,))\r\n",
        "consumer_thread = Thread(target=consumer,args=(q,))"
      ],
      "execution_count": null,
      "outputs": []
    },
    {
      "cell_type": "code",
      "metadata": {
        "id": "hhQCu4ASaf1X"
      },
      "source": [
        "consumer_thread.start()"
      ],
      "execution_count": null,
      "outputs": []
    },
    {
      "cell_type": "code",
      "metadata": {
        "id": "mAVeEXoJeRzR"
      },
      "source": [
        "producer_thread.start()"
      ],
      "execution_count": null,
      "outputs": []
    },
    {
      "cell_type": "code",
      "metadata": {
        "id": "V_HuEaN4eR8e"
      },
      "source": [
        "producer_thread.join()"
      ],
      "execution_count": null,
      "outputs": []
    },
    {
      "cell_type": "code",
      "metadata": {
        "id": "qUVpQNk8kjr5"
      },
      "source": [
        "consumer_thread.join()"
      ],
      "execution_count": null,
      "outputs": []
    },
    {
      "cell_type": "code",
      "metadata": {
        "id": "IiOUHOJ-e6DO"
      },
      "source": [
        ""
      ],
      "execution_count": null,
      "outputs": []
    },
    {
      "cell_type": "code",
      "metadata": {
        "id": "-Wt73b2Ye6Fz"
      },
      "source": [
        ""
      ],
      "execution_count": null,
      "outputs": []
    },
    {
      "cell_type": "markdown",
      "metadata": {
        "id": "lU0CrARPmxAA"
      },
      "source": [
        "#Couroutines"
      ]
    },
    {
      "cell_type": "code",
      "metadata": {
        "id": "AA6YoaK4r3V1"
      },
      "source": [
        "import time"
      ],
      "execution_count": null,
      "outputs": []
    },
    {
      "cell_type": "code",
      "metadata": {
        "id": "2SacUZbNe6IH"
      },
      "source": [
        "def print_fancy_name(prefix):\r\n",
        "  try:\r\n",
        "      while True:\r\n",
        "        time.sleep(2)\r\n",
        "        name = (yield)\r\n",
        "        print(prefix + \":\" + name)\r\n",
        "  except GeneratorExit:\r\n",
        "    print(\"Done !\") \r\n"
      ],
      "execution_count": null,
      "outputs": []
    },
    {
      "cell_type": "code",
      "metadata": {
        "id": "gZbO3eR_e6KS"
      },
      "source": [
        "co = print_fancy_name(\"Cool\")"
      ],
      "execution_count": null,
      "outputs": []
    },
    {
      "cell_type": "markdown",
      "metadata": {
        "id": "goMcMcpNrF5Y"
      },
      "source": [
        "Initalization\r\n"
      ]
    },
    {
      "cell_type": "code",
      "metadata": {
        "id": "1Ht7x2fqe6cQ"
      },
      "source": [
        "next(co)"
      ],
      "execution_count": null,
      "outputs": []
    },
    {
      "cell_type": "markdown",
      "metadata": {
        "id": "hNlMdUUVrN9g"
      },
      "source": [
        "sending data and control"
      ]
    },
    {
      "cell_type": "code",
      "metadata": {
        "id": "Rr8XdaWEe6fh"
      },
      "source": [
        "co.send(\"kash\")"
      ],
      "execution_count": null,
      "outputs": []
    },
    {
      "cell_type": "code",
      "metadata": {
        "id": "eJ6ur5jve6iZ"
      },
      "source": [
        "co.send(\"jatin\")"
      ],
      "execution_count": null,
      "outputs": []
    },
    {
      "cell_type": "code",
      "metadata": {
        "id": "58wU5ZRoe6k2"
      },
      "source": [
        "co.close()"
      ],
      "execution_count": null,
      "outputs": []
    },
    {
      "cell_type": "code",
      "metadata": {
        "id": "xVdN_hWxe6sI"
      },
      "source": [
        ""
      ],
      "execution_count": null,
      "outputs": []
    },
    {
      "cell_type": "code",
      "metadata": {
        "id": "90Umr19kr_fw"
      },
      "source": [
        ""
      ],
      "execution_count": null,
      "outputs": []
    },
    {
      "cell_type": "markdown",
      "metadata": {
        "id": "TN9afaLtri_n"
      },
      "source": [
        "#AsyncIO"
      ]
    },
    {
      "cell_type": "code",
      "metadata": {
        "id": "QTLcBgOne6vO"
      },
      "source": [
        "import asyncio\r\n",
        "import time"
      ],
      "execution_count": null,
      "outputs": []
    },
    {
      "cell_type": "code",
      "metadata": {
        "id": "T0V3y7eue6xj"
      },
      "source": [
        "async def main():\r\n",
        "  print(\"hello \")\r\n",
        "  await asyncio.sleep(1)#await time.sleep(1)\r\n",
        "  print(\"world\")"
      ],
      "execution_count": null,
      "outputs": []
    },
    {
      "cell_type": "code",
      "metadata": {
        "id": "fKL6B6TPe6z8"
      },
      "source": [
        "if __name__== '__main__':\r\n",
        "  asyncio.run(main())\r\n",
        "  #print(type(main()))\r\n",
        "  \r\n",
        "\r\n"
      ],
      "execution_count": null,
      "outputs": []
    },
    {
      "cell_type": "code",
      "metadata": {
        "id": "hCm1bqj6e7Cv"
      },
      "source": [
        "\r\n"
      ],
      "execution_count": null,
      "outputs": []
    },
    {
      "cell_type": "code",
      "metadata": {
        "id": "WTbloTNCe7FY"
      },
      "source": [
        ""
      ],
      "execution_count": null,
      "outputs": []
    },
    {
      "cell_type": "code",
      "metadata": {
        "id": "AtGhZpDMe7H7"
      },
      "source": [
        ""
      ],
      "execution_count": null,
      "outputs": []
    },
    {
      "cell_type": "code",
      "metadata": {
        "id": "R1p5Ms6Ke7Kp"
      },
      "source": [
        ""
      ],
      "execution_count": null,
      "outputs": []
    },
    {
      "cell_type": "code",
      "metadata": {
        "id": "-yvEDF3Pe7M3"
      },
      "source": [
        ""
      ],
      "execution_count": null,
      "outputs": []
    },
    {
      "cell_type": "code",
      "metadata": {
        "id": "_ZXs60ige7PM"
      },
      "source": [
        ""
      ],
      "execution_count": null,
      "outputs": []
    },
    {
      "cell_type": "code",
      "metadata": {
        "id": "y0N0OHIie7Rn"
      },
      "source": [
        ""
      ],
      "execution_count": null,
      "outputs": []
    }
  ]
}